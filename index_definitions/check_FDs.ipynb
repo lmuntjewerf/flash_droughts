{
 "cells": [
  {
   "cell_type": "code",
   "execution_count": 1,
   "metadata": {},
   "outputs": [],
   "source": [
    "import pandas as pd"
   ]
  },
  {
   "cell_type": "markdown",
   "metadata": {},
   "source": []
  },
  {
   "cell_type": "code",
   "execution_count": 2,
   "metadata": {},
   "outputs": [],
   "source": [
    "diro = '/perm/nklm/Px_flashdroughts/ERA5_FD_events/'\n",
    "basin = 'Rhine'\n",
    "start_threshold = 0\n",
    "end_threshold = -1"
   ]
  },
  {
   "cell_type": "code",
   "execution_count": 46,
   "metadata": {},
   "outputs": [],
   "source": [
    "# static variables\n",
    "diri = '/perm/nklm/Px_flashdroughts/ERA5_FD_events/'\n",
    "basin = 'Rhine'\n",
    "start_threshold = 0\n",
    "end_threshold = -1\n",
    "\n",
    "\n",
    "# dynamic variables\n",
    "index = 'SMI'\n",
    "scale = 7\n",
    "window = 14\n",
    "jump = -1.5\n",
    "\n",
    "fili = f'{basin}_{index}{scale}_dwindow{window}_jump{jump}.csv'"
   ]
  },
  {
   "cell_type": "code",
   "execution_count": null,
   "metadata": {},
   "outputs": [],
   "source": []
  },
  {
   "cell_type": "code",
   "execution_count": 47,
   "metadata": {},
   "outputs": [],
   "source": [
    "df = pd.read_csv(diri+fili, index_col=0)"
   ]
  },
  {
   "cell_type": "code",
   "execution_count": 49,
   "metadata": {},
   "outputs": [
    {
     "data": {
      "text/plain": [
       "0     1980-02-15\n",
       "1     1980-02-16\n",
       "2     1980-02-17\n",
       "3     1980-02-18\n",
       "4     1980-02-19\n",
       "5     1980-02-20\n",
       "6     1980-02-21\n",
       "7     1980-02-22\n",
       "8     1980-02-23\n",
       "9     1980-03-12\n",
       "10    1980-05-03\n",
       "11    1980-05-04\n",
       "12    1980-05-05\n",
       "13    1980-05-06\n",
       "14    1980-05-07\n",
       "15    1980-05-08\n",
       "16    1980-05-09\n",
       "17    1980-05-10\n",
       "18    1980-05-11\n",
       "19    1981-03-28\n",
       "20    1981-03-29\n",
       "21    1981-03-30\n",
       "22    1981-12-09\n",
       "23    1981-12-10\n",
       "24    1981-12-11\n",
       "25    1981-12-12\n",
       "26    1981-12-13\n",
       "27    1981-12-14\n",
       "28    1981-12-15\n",
       "29    1981-12-16\n",
       "30    1982-05-25\n",
       "31    1982-05-26\n",
       "32    1982-05-27\n",
       "33    1982-05-28\n",
       "34    1982-06-29\n",
       "35    1982-06-30\n",
       "36    1982-07-01\n",
       "37    1982-09-02\n",
       "38    1983-02-04\n",
       "39    1983-02-05\n",
       "40    1983-02-06\n",
       "41    1983-02-07\n",
       "42    1983-02-08\n",
       "43    1983-02-28\n",
       "44    1983-05-30\n",
       "45    1983-05-31\n",
       "46    1983-09-17\n",
       "47    1983-09-18\n",
       "48    1983-09-19\n",
       "49    1983-09-20\n",
       "50    1983-09-21\n",
       "51    1983-09-22\n",
       "52    1983-09-23\n",
       "53    1983-12-04\n",
       "54    1984-04-11\n",
       "55    1984-04-12\n",
       "56    1984-04-13\n",
       "57    1984-04-14\n",
       "58    1984-12-22\n",
       "59    1984-12-23\n",
       "Name: FD_startdate, dtype: object"
      ]
     },
     "execution_count": 49,
     "metadata": {},
     "output_type": "execute_result"
    }
   ],
   "source": [
    "df['FD_startdate'][0:60]"
   ]
  },
  {
   "cell_type": "code",
   "execution_count": 1,
   "metadata": {},
   "outputs": [
    {
     "data": {
      "text/plain": [
       "5.333333333333333"
      ]
     },
     "execution_count": 1,
     "metadata": {},
     "output_type": "execute_result"
    }
   ],
   "source": [
    "16/3"
   ]
  },
  {
   "cell_type": "code",
   "execution_count": 5,
   "metadata": {},
   "outputs": [
    {
     "data": {
      "text/plain": [
       "5.695690388355041"
      ]
     },
     "execution_count": 5,
     "metadata": {},
     "output_type": "execute_result"
    }
   ],
   "source": [
    "np.sqrt(2*2 + 5.333*5.333)"
   ]
  },
  {
   "cell_type": "code",
   "execution_count": 3,
   "metadata": {},
   "outputs": [],
   "source": [
    "import numpy as np"
   ]
  },
  {
   "cell_type": "code",
   "execution_count": null,
   "metadata": {},
   "outputs": [],
   "source": []
  }
 ],
 "metadata": {
  "kernelspec": {
   "display_name": "Python 3.10.10 64-bit",
   "language": "python",
   "name": "python3"
  },
  "language_info": {
   "codemirror_mode": {
    "name": "ipython",
    "version": 3
   },
   "file_extension": ".py",
   "mimetype": "text/x-python",
   "name": "python",
   "nbconvert_exporter": "python",
   "pygments_lexer": "ipython3",
   "version": "3.10.10"
  },
  "orig_nbformat": 4,
  "vscode": {
   "interpreter": {
    "hash": "a31ad865cc8b4086b1ed6e62d02c87f13fc264e3282e1db241b6ee32ad924a35"
   }
  }
 },
 "nbformat": 4,
 "nbformat_minor": 2
}
