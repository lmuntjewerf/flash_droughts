{
 "cells": [
  {
   "cell_type": "code",
   "execution_count": 1,
   "metadata": {},
   "outputs": [],
   "source": [
    "import xarray as xr\n",
    "import pandas as pd\n",
    "import numpy as np\n",
    "import sys"
   ]
  },
  {
   "cell_type": "markdown",
   "metadata": {},
   "source": [
    "## Goal: define flash drougths\n",
    "\n",
    "In this notebook, I am working to a script that defines the flash drought from an indexes and a number of criteria. \n",
    "\n",
    "\n",
    "### The criteria we need (input): \n",
    "\n",
    "- we choose an index **index** of a certain time scale **scale**\n",
    "- we compute the first order derivate of the index with a rolling-mean window **window** \n",
    "- the starting index value has to be higher than **start_threshold**\n",
    "- the end index value has to be lower than **end_threshold**\n",
    "- the first order derivative of the index must experience a jump in value of minimal size **jump**\n",
    "\n",
    "\n",
    "### Output of the script:\n",
    "\n",
    "- CSV file with start dates of flash droughts\n",
    "- file name must contain the values of the above input criteria"
   ]
  },
  {
   "cell_type": "markdown",
   "metadata": {},
   "source": [
    "### steps: \n",
    " 1. read in Index netcdf\n",
    " 2. calculate first order derivative\n",
    " 3. find where data fits the following conditions:\n",
    "    1. index(t) > start_threshold\n",
    "    2. index(t+window) < end_threshold\n",
    "    3. d_index(t+window) < jump (because the timeseries start at the time when the running window ends)"
   ]
  },
  {
   "cell_type": "code",
   "execution_count": 3,
   "metadata": {},
   "outputs": [],
   "source": [
    "def read_in_ERA5_index(index, diri, basin, scale):\n",
    "    # ds = xr.open_dataset(f'{diri}/ESI7_test.nc{index}{scale}_{basin}.nc')\n",
    "    ds = xr.open_dataset(f'{diri}/{index}{scale}_test.nc')\n",
    "    da = ds[f'{index}{scale}']\n",
    "    return da"
   ]
  },
  {
   "cell_type": "code",
   "execution_count": 4,
   "metadata": {},
   "outputs": [],
   "source": [
    "def first_order_deriv_rolling_sum(da, window):\n",
    "    dda = da[0:-1].copy(deep=True)\n",
    "    dda.values = pd.Series(np.diff(da)).rolling(window=window).sum()\n",
    "    \n",
    "    return dda"
   ]
  },
  {
   "cell_type": "code",
   "execution_count": 2,
   "metadata": {},
   "outputs": [],
   "source": [
    "def compute_FDs(da, dda, window, start_threshold, end_threshold, jump):\n",
    "    '''\n",
    "    da is the index timeseries\n",
    "    dda is the time derivate of da, with rolling window\n",
    "    window is the rolling window of the dda\n",
    "    start_threshold is below with value da should start at the beginning of the flash drought\n",
    "    end_threshold is below which value da should end after #window days after beginning of flash drought\n",
    "    jump is the minimal value of dda at #window days after beginning of flash drought\n",
    "    '''\n",
    "    flash_drought_dates = []\n",
    "    for i in da.time.data:\n",
    "        i_end = i+np.timedelta64(window,'D')\n",
    "        if da.sel(time=i,method='nearest') > start_threshold and da.sel(time=i_end,method='nearest') < end_threshold and dda.sel(time=i_end,method='nearest') < jump:\n",
    "            flash_drought_dates.append(i.astype('datetime64[D]'))\n",
    "    df = pd.DataFrame(data={'FD_startdate':flash_drought_dates})\n",
    "    return df "
   ]
  },
  {
   "cell_type": "code",
   "execution_count": 5,
   "metadata": {},
   "outputs": [],
   "source": [
    "def save_df_tocsv(df, diro, basin, index, scale, window, jump):\n",
    "    filo = f'{basin}_{index}{scale}_dwindow{window}_jump{jump}.csv'\n",
    "    df.to_csv(diro+filo)  "
   ]
  },
  {
   "cell_type": "code",
   "execution_count": null,
   "metadata": {},
   "outputs": [],
   "source": [
    "def main():\n",
    "    diri = '/scratch/nklm/Px_flashdroughts/indices_ERA5/'\n",
    "    diro = '/perm/nklm/Px_flashdroughts/ERA5_FD_events/'\n",
    "    basin = 'Rhine'\n",
    "    start_threshold = 0\n",
    "    end_threshold = -1\n",
    "    for index in ['SPI','SPEI','ESI','SMI']:\n",
    "        for scale in [7,14,21,28]:\n",
    "            for window in [7,14,21,28]:\n",
    "                for jump in np.arange(-1.5,-5,0.5): \n",
    "                    da = read_in_ERA5_index(index, diri, basin, scale)\n",
    "                    dda = first_order_deriv_rolling_sum(da, window)\n",
    "                    df = compute_FDs(da, dda, window, start_threshold, end_threshold, jump)\n",
    "                    save_df_tocsv(df, diro, basin, index, scale, window, jump)\n"
   ]
  },
  {
   "cell_type": "code",
   "execution_count": 6,
   "metadata": {},
   "outputs": [],
   "source": [
    "diri = '/scratch/nklm/Px_flashdroughts/indices_ERA5/'\n",
    "diro = '/perm/nklm/Px_flashdroughts/ERA5_FD_events/'\n",
    "basin = 'Rhine'\n",
    "start_threshold = 0\n",
    "end_threshold = -1\n",
    "index = 'SPEI'\n",
    "scale = 14\n",
    "window = 21\n",
    "jump = -2\n"
   ]
  },
  {
   "cell_type": "code",
   "execution_count": 7,
   "metadata": {},
   "outputs": [],
   "source": [
    "da = read_in_ERA5_index(index, diri, basin, scale)\n",
    "dda = first_order_deriv_rolling_sum(da, window)\n",
    "df = compute_FDs(da, dda, window, start_threshold, end_threshold, jump)"
   ]
  },
  {
   "cell_type": "code",
   "execution_count": null,
   "metadata": {},
   "outputs": [],
   "source": [
    "if __name__ == '__main__':\n",
    "    sys.exit(main())"
   ]
  },
  {
   "cell_type": "code",
   "execution_count": 8,
   "metadata": {},
   "outputs": [
    {
     "data": {
      "text/html": [
       "<div>\n",
       "<style scoped>\n",
       "    .dataframe tbody tr th:only-of-type {\n",
       "        vertical-align: middle;\n",
       "    }\n",
       "\n",
       "    .dataframe tbody tr th {\n",
       "        vertical-align: top;\n",
       "    }\n",
       "\n",
       "    .dataframe thead th {\n",
       "        text-align: right;\n",
       "    }\n",
       "</style>\n",
       "<table border=\"1\" class=\"dataframe\">\n",
       "  <thead>\n",
       "    <tr style=\"text-align: right;\">\n",
       "      <th></th>\n",
       "      <th>FD_startdate</th>\n",
       "    </tr>\n",
       "  </thead>\n",
       "  <tbody>\n",
       "    <tr>\n",
       "      <th>0</th>\n",
       "      <td>1987-12-10</td>\n",
       "    </tr>\n",
       "  </tbody>\n",
       "</table>\n",
       "</div>"
      ],
      "text/plain": [
       "  FD_startdate\n",
       "0   1987-12-10"
      ]
     },
     "execution_count": 8,
     "metadata": {},
     "output_type": "execute_result"
    }
   ],
   "source": [
    "df"
   ]
  },
  {
   "cell_type": "code",
   "execution_count": 9,
   "metadata": {},
   "outputs": [],
   "source": [
    "save_df_tocsv(df, diro, basin, index, scale, window, jump)"
   ]
  },
  {
   "cell_type": "code",
   "execution_count": null,
   "metadata": {},
   "outputs": [],
   "source": []
  }
 ],
 "metadata": {
  "kernelspec": {
   "display_name": "Python 3.10.6 ('base')",
   "language": "python",
   "name": "python3"
  },
  "language_info": {
   "codemirror_mode": {
    "name": "ipython",
    "version": 3
   },
   "file_extension": ".py",
   "mimetype": "text/x-python",
   "name": "python",
   "nbconvert_exporter": "python",
   "pygments_lexer": "ipython3",
   "version": "3.10.6"
  },
  "orig_nbformat": 4,
  "vscode": {
   "interpreter": {
    "hash": "0e66eec976307e870a0af5033e72c4f2fa3082106b2ef1ceaa53a4b274c36b53"
   }
  }
 },
 "nbformat": 4,
 "nbformat_minor": 2
}
